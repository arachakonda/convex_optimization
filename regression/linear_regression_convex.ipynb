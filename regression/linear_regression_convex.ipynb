{
 "cells": [
  {
   "cell_type": "code",
   "execution_count": 11,
   "id": "beee2e40",
   "metadata": {},
   "outputs": [],
   "source": [
    "%matplotlib qt\n",
    "import numpy as np\n",
    "import cvxpy as cp\n",
    "import matplotlib.pyplot as plt"
   ]
  },
  {
   "cell_type": "code",
   "execution_count": 12,
   "id": "6a357557",
   "metadata": {
    "scrolled": false
   },
   "outputs": [
    {
     "data": {
      "text/plain": [
       "[<matplotlib.lines.Line2D at 0x7f6a90046160>]"
      ]
     },
     "execution_count": 12,
     "metadata": {},
     "output_type": "execute_result"
    }
   ],
   "source": [
    "upper = 100\n",
    "W = 1\n",
    "bias = 50\n",
    "point_cloud = [[0,0]]*upper\n",
    "rng = np.random.default_rng(seed=42)\n",
    "for i in range(upper):\n",
    "    (x,y) = (i,W*i)\n",
    "    point_cloud[i] = [x,int(rng.integers(low=y-bias, high=y+bias, size=1))]\n",
    "#print(point_cloud)\n",
    "X_data = np.array([i[0] for i in point_cloud])\n",
    "Y_data = np.array([i[1] for i in point_cloud])\n",
    "\n",
    "fig, ax = plt.subplots()\n",
    "ax.scatter(X_data,Y_data)\n",
    "\n",
    "#the original line\n",
    "X_original = np.array([i[0] for i in point_cloud])\n",
    "Y_original = np.array([W*i[0] for i in point_cloud])\n",
    "ax.plot(X_original,Y_original, color = 'orange')"
   ]
  },
  {
   "cell_type": "markdown",
   "id": "39d01b3e",
   "metadata": {},
   "source": [
    "Our goal is to estimate the weight matrix $W_{inf}$ which in this case is a scalar; hence cp.Variable(1)"
   ]
  },
  {
   "cell_type": "code",
   "execution_count": 24,
   "id": "24adb4b6",
   "metadata": {},
   "outputs": [],
   "source": [
    "W_inf = cp.Variable()"
   ]
  },
  {
   "cell_type": "markdown",
   "id": "137be9cf",
   "metadata": {},
   "source": [
    "we define cost as the mean squared error calculated with the infered weight $W_{inf}$ \n",
    "An optimal $W_{inf} = W_{inf}^*$ would minimize the mean squared error for the given Y_data\n",
    "In other words it would be the line of best fit for the given $Y_{data}$ "
   ]
  },
  {
   "cell_type": "code",
   "execution_count": 25,
   "id": "e3a551bf",
   "metadata": {},
   "outputs": [],
   "source": [
    "cost = (1/upper)*(cp.sum_squares(W_inf*X_data - Y_data))"
   ]
  },
  {
   "cell_type": "markdown",
   "id": "fd45778a",
   "metadata": {},
   "source": [
    "then the convex optimization problem is defined as"
   ]
  },
  {
   "cell_type": "code",
   "execution_count": 26,
   "id": "80db3750",
   "metadata": {},
   "outputs": [],
   "source": [
    "problem = cp.Problem(cp.Minimize(cost))"
   ]
  },
  {
   "cell_type": "markdown",
   "id": "80f0266f",
   "metadata": {},
   "source": [
    "the problem is solved by the one liner"
   ]
  },
  {
   "cell_type": "code",
   "execution_count": 27,
   "id": "801fe806",
   "metadata": {},
   "outputs": [
    {
     "data": {
      "text/plain": [
       "739.2120324044464"
      ]
     },
     "execution_count": 27,
     "metadata": {},
     "output_type": "execute_result"
    }
   ],
   "source": [
    "problem.solve()"
   ]
  },
  {
   "cell_type": "markdown",
   "id": "9d82a51e",
   "metadata": {},
   "source": [
    "The value of the problem is the minimum value of the cost defined above"
   ]
  },
  {
   "cell_type": "code",
   "execution_count": 28,
   "id": "f97141d5",
   "metadata": {},
   "outputs": [
    {
     "data": {
      "text/plain": [
       "739.2120324044464"
      ]
     },
     "execution_count": 28,
     "metadata": {},
     "output_type": "execute_result"
    }
   ],
   "source": [
    "problem.value"
   ]
  },
  {
   "cell_type": "markdown",
   "id": "05270fb8",
   "metadata": {},
   "source": [
    "The value of the variable for the minimum cost obtained above is given by:"
   ]
  },
  {
   "cell_type": "code",
   "execution_count": 30,
   "id": "abb6c4af",
   "metadata": {},
   "outputs": [
    {
     "data": {
      "text/plain": [
       "array(1.03046749)"
      ]
     },
     "execution_count": 30,
     "metadata": {},
     "output_type": "execute_result"
    }
   ],
   "source": [
    "W_inf.value"
   ]
  },
  {
   "cell_type": "code",
   "execution_count": null,
   "id": "0701f472",
   "metadata": {},
   "outputs": [],
   "source": []
  }
 ],
 "metadata": {
  "kernelspec": {
   "display_name": "Python [conda env:pDL] *",
   "language": "python",
   "name": "conda-env-pDL-py"
  },
  "language_info": {
   "codemirror_mode": {
    "name": "ipython",
    "version": 3
   },
   "file_extension": ".py",
   "mimetype": "text/x-python",
   "name": "python",
   "nbconvert_exporter": "python",
   "pygments_lexer": "ipython3",
   "version": "3.9.16"
  }
 },
 "nbformat": 4,
 "nbformat_minor": 5
}
