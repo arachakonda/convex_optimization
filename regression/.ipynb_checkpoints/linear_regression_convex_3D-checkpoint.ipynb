{
 "cells": [
  {
   "cell_type": "code",
   "execution_count": 1,
   "id": "e7e6a9f0",
   "metadata": {},
   "outputs": [],
   "source": [
    "%matplotlib qt\n",
    "import numpy as np\n",
    "import cvxpy as cp\n",
    "import matplotlib.pyplot as plt"
   ]
  },
  {
   "cell_type": "code",
   "execution_count": 2,
   "id": "74ea95f1",
   "metadata": {},
   "outputs": [
    {
     "name": "stdout",
     "output_type": "stream",
     "text": [
      "[ 1.62434536 -0.61175641]\n",
      "[[-0.52817175 -1.07296862]\n",
      " [ 0.86540763 -2.3015387 ]\n",
      " [ 1.74481176 -0.7612069 ]\n",
      " [ 0.3190391  -0.24937038]\n",
      " [ 1.46210794 -2.06014071]\n",
      " [-0.3224172  -0.38405435]\n",
      " [ 1.13376944 -1.09989127]\n",
      " [-0.17242821 -0.87785842]\n",
      " [ 0.04221375  0.58281521]\n",
      " [-1.10061918  1.14472371]]\n",
      "[ 0.70005282  3.31619627  4.20070605 -0.01294426  3.51238232 -1.22453861\n",
      "  2.24661059  0.78730802 -0.97963199 -2.88483126]\n"
     ]
    }
   ],
   "source": [
    "m = 10 #number of data points\n",
    "n = 2 #number of features\n",
    "\n",
    "np.random.seed(1)\n",
    "\n",
    "W = np.random.randn(n) #generate a weight matrix for n features\n",
    "\n",
    "X_data = np.random.randn(m,n) #generate m random datapoints of n features\n",
    "Y_data = X_data@W + np.random.randn(m) # generate m noisy data points around the line of best fit\n",
    "print(W)\n",
    "print(X_data)\n",
    "print(Y_data)"
   ]
  },
  {
   "cell_type": "code",
   "execution_count": 3,
   "id": "e45867e9",
   "metadata": {},
   "outputs": [
    {
     "data": {
      "text/plain": [
       "3.599472827727282"
      ]
     },
     "execution_count": 3,
     "metadata": {},
     "output_type": "execute_result"
    }
   ],
   "source": [
    "W_inf = cp.Variable(n)\n",
    "cost = cp.sum_squares(X_data@W_inf - Y_data)\n",
    "prob = cp.Problem(cp.Minimize(cost))\n",
    "prob.solve()"
   ]
  },
  {
   "cell_type": "code",
   "execution_count": 4,
   "id": "b8d4cd08",
   "metadata": {},
   "outputs": [
    {
     "data": {
      "text/plain": [
       "array([ 1.58545998, -0.83461671])"
      ]
     },
     "execution_count": 4,
     "metadata": {},
     "output_type": "execute_result"
    }
   ],
   "source": [
    "W_inf.value"
   ]
  },
  {
   "cell_type": "code",
   "execution_count": 5,
   "id": "dee9de58",
   "metadata": {},
   "outputs": [
    {
     "data": {
      "text/plain": [
       "[<mpl_toolkits.mplot3d.art3d.Line3D at 0x7f8b94b45760>]"
      ]
     },
     "execution_count": 5,
     "metadata": {},
     "output_type": "execute_result"
    }
   ],
   "source": [
    "fig = plt.figure\n",
    "ax = plt.axes(projection='3d')\n",
    "ax.scatter3D(X_data[:,0],X_data[:,1],Y_data)\n",
    "Y_desired = X_data@W\n",
    "Y_obtained = X_data@W_inf.value\n",
    "ax.plot_trisurf(X_data[:,0],X_data[:,1],Y_desired)\n",
    "ax.plot_trisurf(X_data[:,0],X_data[:,1],Y_obtained)"
   ]
  },
  {
   "cell_type": "code",
   "execution_count": null,
   "id": "881bc056",
   "metadata": {},
   "outputs": [],
   "source": []
  }
 ],
 "metadata": {
  "kernelspec": {
   "display_name": "Python [conda env:pDL] *",
   "language": "python",
   "name": "conda-env-pDL-py"
  },
  "language_info": {
   "codemirror_mode": {
    "name": "ipython",
    "version": 3
   },
   "file_extension": ".py",
   "mimetype": "text/x-python",
   "name": "python",
   "nbconvert_exporter": "python",
   "pygments_lexer": "ipython3",
   "version": "3.9.16"
  }
 },
 "nbformat": 4,
 "nbformat_minor": 5
}
