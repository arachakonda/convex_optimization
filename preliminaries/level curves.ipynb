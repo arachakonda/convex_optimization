{
 "cells": [
  {
   "cell_type": "code",
   "execution_count": 22,
   "id": "a3bab252",
   "metadata": {},
   "outputs": [],
   "source": [
    "import numpy as np\n",
    "import scipy\n",
    "import matplotlib.pyplot as plt\n",
    "import pandas as pd\n",
    "%matplotlib qt"
   ]
  },
  {
   "cell_type": "markdown",
   "id": "d3e8c138",
   "metadata": {},
   "source": [
    "# Level Curves"
   ]
  },
  {
   "cell_type": "code",
   "execution_count": 23,
   "id": "07f59d9c",
   "metadata": {},
   "outputs": [],
   "source": [
    "x_1,x_1_step = np.linspace(-5.0, 5.0, num=100, endpoint=False, retstep=True)"
   ]
  },
  {
   "cell_type": "code",
   "execution_count": 24,
   "id": "d2596c83",
   "metadata": {},
   "outputs": [],
   "source": [
    "y_1, y_1_step = np.linspace(-5.0,5.0, num=100, endpoint=False, retstep=True)"
   ]
  },
  {
   "cell_type": "code",
   "execution_count": 25,
   "id": "2129d28e",
   "metadata": {},
   "outputs": [],
   "source": [
    "X_1, Y_1 = np.meshgrid(x_1,y_1)"
   ]
  },
  {
   "cell_type": "code",
   "execution_count": 26,
   "id": "68b71e32",
   "metadata": {},
   "outputs": [],
   "source": [
    "Z_1 = X_1**2 + Y_1**2\n",
    "fig1,ax1 = plt.subplots()\n",
    "fig1.set_figwidth(10)\n",
    "fig1.set_figheight(10)"
   ]
  },
  {
   "cell_type": "code",
   "execution_count": 27,
   "id": "b66b2d14",
   "metadata": {},
   "outputs": [
    {
     "data": {
      "text/plain": [
       "<matplotlib.contour.QuadContourSet at 0x7f6551da8748>"
      ]
     },
     "execution_count": 27,
     "metadata": {},
     "output_type": "execute_result"
    }
   ],
   "source": [
    "ax1.contourf(X_1,Y_1,Z_1)"
   ]
  },
  {
   "cell_type": "code",
   "execution_count": 28,
   "id": "5f26c809",
   "metadata": {},
   "outputs": [],
   "source": [
    "Z_2 = np.sin(X_1) + np.cos(Y_1)\n",
    "fig2,ax2 = plt.subplots()\n",
    "fig2.set_figwidth(10)\n",
    "fig2.set_figheight(10)"
   ]
  },
  {
   "cell_type": "code",
   "execution_count": 29,
   "id": "44af8ed4",
   "metadata": {},
   "outputs": [
    {
     "data": {
      "text/plain": [
       "<matplotlib.contour.QuadContourSet at 0x7f654bfdf6a0>"
      ]
     },
     "execution_count": 29,
     "metadata": {},
     "output_type": "execute_result"
    }
   ],
   "source": [
    "ax2.contourf(X_1,Y_1,Z_2)"
   ]
  },
  {
   "cell_type": "code",
   "execution_count": 30,
   "id": "26b67914",
   "metadata": {},
   "outputs": [],
   "source": [
    "Z_3 = np.exp(X_1*Y_1)\n",
    "fig3,ax3 = plt.subplots()\n",
    "fig3.set_figwidth(10)\n",
    "fig3.set_figheight(10)"
   ]
  },
  {
   "cell_type": "code",
   "execution_count": 31,
   "id": "a947fadd",
   "metadata": {},
   "outputs": [
    {
     "data": {
      "text/plain": [
       "<matplotlib.contour.QuadContourSet at 0x7f6551d74048>"
      ]
     },
     "execution_count": 31,
     "metadata": {},
     "output_type": "execute_result"
    }
   ],
   "source": [
    "ax3.contourf(X_1,Y_1,Z_3)"
   ]
  },
  {
   "cell_type": "code",
   "execution_count": null,
   "id": "f9a82144",
   "metadata": {},
   "outputs": [],
   "source": []
  },
  {
   "cell_type": "code",
   "execution_count": null,
   "id": "5046a1f7",
   "metadata": {},
   "outputs": [],
   "source": []
  },
  {
   "cell_type": "code",
   "execution_count": null,
   "id": "376c72e8",
   "metadata": {},
   "outputs": [],
   "source": []
  }
 ],
 "metadata": {
  "kernelspec": {
   "display_name": "Python 3",
   "language": "python",
   "name": "python3"
  },
  "language_info": {
   "codemirror_mode": {
    "name": "ipython",
    "version": 3
   },
   "file_extension": ".py",
   "mimetype": "text/x-python",
   "name": "python",
   "nbconvert_exporter": "python",
   "pygments_lexer": "ipython3",
   "version": "3.6.9"
  }
 },
 "nbformat": 4,
 "nbformat_minor": 5
}
