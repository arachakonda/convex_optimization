{
 "cells": [
  {
   "cell_type": "code",
   "execution_count": 2,
   "id": "6324cc72",
   "metadata": {},
   "outputs": [],
   "source": [
    "import numpy as np\n",
    "import scipy\n",
    "import matplotlib.pyplot as plt\n",
    "import pandas as pd\n",
    "%matplotlib qt"
   ]
  },
  {
   "cell_type": "markdown",
   "id": "3ed89249",
   "metadata": {},
   "source": [
    "# Level Curves"
   ]
  },
  {
   "cell_type": "code",
   "execution_count": 7,
   "id": "b49ead95",
   "metadata": {},
   "outputs": [],
   "source": [
    "x_1,x_1_step = np.linspace(-5.0, 5.0, num=100, endpoint=False, retstep=True)"
   ]
  },
  {
   "cell_type": "code",
   "execution_count": 9,
   "id": "460fabee",
   "metadata": {},
   "outputs": [],
   "source": [
    "y_1, y_1_step = np.linspace(-5.0,5.0, num=100, endpoint=False, retstep=True)"
   ]
  },
  {
   "cell_type": "code",
   "execution_count": 10,
   "id": "ca66a407",
   "metadata": {},
   "outputs": [],
   "source": [
    "X_1, Y_1 = np.meshgrid(x_1,y_1)"
   ]
  },
  {
   "cell_type": "code",
   "execution_count": 17,
   "id": "ffb095c9",
   "metadata": {},
   "outputs": [],
   "source": [
    "Z_1 = X_1**2 + Y_1**2\n",
    "fig,ax = plt.subplots()\n",
    "fig.set_figwidth(10)\n",
    "fig.set_figheight(10)"
   ]
  },
  {
   "cell_type": "code",
   "execution_count": 18,
   "id": "e5384317",
   "metadata": {},
   "outputs": [
    {
     "data": {
      "text/plain": [
       "<matplotlib.contour.QuadContourSet at 0x7fe1f4052ef0>"
      ]
     },
     "execution_count": 18,
     "metadata": {},
     "output_type": "execute_result"
    }
   ],
   "source": [
    "ax.contourf(X_1,Y_1,Z_1)"
   ]
  },
  {
   "cell_type": "code",
   "execution_count": null,
   "id": "e216d256",
   "metadata": {},
   "outputs": [],
   "source": []
  }
 ],
 "metadata": {
  "kernelspec": {
   "display_name": "Python 3",
   "language": "python",
   "name": "python3"
  },
  "language_info": {
   "codemirror_mode": {
    "name": "ipython",
    "version": 3
   },
   "file_extension": ".py",
   "mimetype": "text/x-python",
   "name": "python",
   "nbconvert_exporter": "python",
   "pygments_lexer": "ipython3",
   "version": "3.6.9"
  }
 },
 "nbformat": 4,
 "nbformat_minor": 5
}
