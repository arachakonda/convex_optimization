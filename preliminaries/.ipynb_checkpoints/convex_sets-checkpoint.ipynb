{
 "cells": [
  {
   "cell_type": "code",
   "execution_count": 1,
   "id": "bafad452",
   "metadata": {},
   "outputs": [],
   "source": [
    "import matplotlib.pyplot as plt\n",
    "import numpy as np\n",
    "import scipy\n",
    "%matplotlib qt"
   ]
  },
  {
   "cell_type": "code",
   "execution_count": 2,
   "id": "90b20032",
   "metadata": {},
   "outputs": [],
   "source": [
    "x1 = np.random.randint(100, size=(2,1))\n",
    "x2 = np.random.randint(100, size=(2,1))"
   ]
  },
  {
   "cell_type": "code",
   "execution_count": 3,
   "id": "b1bdc468",
   "metadata": {},
   "outputs": [
    {
     "data": {
      "text/plain": [
       "<matplotlib.collections.PathCollection at 0x7f339c1a2d68>"
      ]
     },
     "execution_count": 3,
     "metadata": {},
     "output_type": "execute_result"
    }
   ],
   "source": [
    "fig,ax = plt.subplots()\n",
    "ax.scatter(x1[0], x1[1], c='red')\n",
    "ax.scatter(x2[0], x2[1], c='blue')"
   ]
  },
  {
   "cell_type": "code",
   "execution_count": 4,
   "id": "6bc7126e",
   "metadata": {},
   "outputs": [],
   "source": [
    "for i in range(10):\n",
    "    # select a random theta between 0 and 1\n",
    "    theta = np.random.rand()\n",
    "    y = theta*x1 + (1-theta)*x2\n",
    "    ax.scatter(y[0],y[1], c ='orange')    "
   ]
  },
  {
   "cell_type": "markdown",
   "id": "34813de1",
   "metadata": {},
   "source": [
    "The above exercise illustrates that for $ 0 \\le \\theta \\le 1 $ the point formed by the linear combination of the points $ x_1 $ and $ x_2 $ with the weights $ \\theta $ and $ 1 - \\theta $ lies on the line joining the points $ x_1 $ and $ x_2 $ \n",
    "\n",
    "$$\n",
    "\\begin{align}\n",
    "\n",
    "\\end{align}\n",
    "$$"
   ]
  },
  {
   "cell_type": "code",
   "execution_count": null,
   "id": "40b6dcfc",
   "metadata": {},
   "outputs": [],
   "source": []
  }
 ],
 "metadata": {
  "kernelspec": {
   "display_name": "Python 3",
   "language": "python",
   "name": "python3"
  },
  "language_info": {
   "codemirror_mode": {
    "name": "ipython",
    "version": 3
   },
   "file_extension": ".py",
   "mimetype": "text/x-python",
   "name": "python",
   "nbconvert_exporter": "python",
   "pygments_lexer": "ipython3",
   "version": "3.6.9"
  }
 },
 "nbformat": 4,
 "nbformat_minor": 5
}
